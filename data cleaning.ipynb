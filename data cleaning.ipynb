{
 "cells": [
  {
   "cell_type": "code",
   "execution_count": 1,
   "metadata": {
    "collapsed": true
   },
   "outputs": [],
   "source": [
    "import pandas as pd\n",
    "import numpy as np"
   ]
  },
  {
   "cell_type": "code",
   "execution_count": 3,
   "metadata": {
    "collapsed": true
   },
   "outputs": [],
   "source": [
    "final = pd.read_csv(\"final_links.csv\", encoding = \"ISO-8859-1\", delimiter = ',', dtype = object)"
   ]
  },
  {
   "cell_type": "code",
   "execution_count": 4,
   "metadata": {
    "collapsed": true
   },
   "outputs": [],
   "source": [
    "final = final.drop(['Unnamed: 0', 'Unnamed: 0.1','appl_id.1','Unnamed: 17'], axis = 1)"
   ]
  },
  {
   "cell_type": "code",
   "execution_count": 5,
   "metadata": {
    "collapsed": true
   },
   "outputs": [],
   "source": [
    "final = final.drop(['first_last_name','full_name'], axis = 1)"
   ]
  },
  {
   "cell_type": "code",
   "execution_count": 6,
   "metadata": {
    "collapsed": true
   },
   "outputs": [],
   "source": [
    "final = final.rename({'Unnamed: 0.1.1':'original_index'}, axis = 1)"
   ]
  },
  {
   "cell_type": "code",
   "execution_count": null,
   "metadata": {
    "collapsed": true
   },
   "outputs": [],
   "source": [
    "# make names title case\n",
    "\n",
    "final['inventor_name_first'] = final['inventor_name_first'].str.title()\n",
    "final['inventor_name_middle'] = final['inventor_name_middle'].str.title()\n",
    "final['inventor_name_last'] = final['inventor_name_last'].str.title()"
   ]
  },
  {
   "cell_type": "code",
   "execution_count": 8,
   "metadata": {
    "collapsed": true
   },
   "outputs": [],
   "source": [
    "# make sub dataframes of first, middle, and last names\n",
    "final = final.replace(np.nan, '', regex = True)\n",
    "\n",
    "first_name = final['inventor_name_first']\n",
    "middle_name = final['inventor_name_middle']\n",
    "last_name = final['inventor_name_last']\n",
    "\n",
    "final['full_name'] = first_name + \" \" + middle_name + \" \" + last_name"
   ]
  },
  {
   "cell_type": "code",
   "execution_count": 9,
   "metadata": {},
   "outputs": [
    {
     "data": {
      "text/plain": [
       "Index(['original_index', 'appl_id', 'inventor_name_first',\n",
       "       'inventor_name_middle', 'inventor_name_last', 'inventor_rank',\n",
       "       'inventor_region_code', 'inventor_country_code',\n",
       "       'inventor_country_name', 'inventor_address_type', '_merge', 'state',\n",
       "       'linkedinProfile', 'Maybe', 'Duplicates', 'unique', 'full_name'],\n",
       "      dtype='object')"
      ]
     },
     "execution_count": 9,
     "metadata": {},
     "output_type": "execute_result"
    }
   ],
   "source": [
    "final.columns"
   ]
  },
  {
   "cell_type": "code",
   "execution_count": 10,
   "metadata": {
    "collapsed": true
   },
   "outputs": [],
   "source": [
    "# label duplicates 0/1\n",
    "# label unique inventors 0/1\n",
    "\n",
    "final['Duplicates'] = final.duplicated(subset = ['full_name', 'inventor_region_code', 'inventor_country_code'], keep = False)\n",
    "final['Duplicates'] = final['Duplicates'] * 1\n",
    "\n",
    "final['unique'] = final.duplicated(subset = ['full_name', 'inventor_region_code', 'inventor_country_code'], keep = 'first')\n",
    "final['unique'] = final['unique'] * 1"
   ]
  },
  {
   "cell_type": "code",
   "execution_count": 11,
   "metadata": {
    "collapsed": true
   },
   "outputs": [],
   "source": [
    "final = final.replace('None', '', regex = True)"
   ]
  },
  {
   "cell_type": "code",
   "execution_count": 12,
   "metadata": {
    "collapsed": true
   },
   "outputs": [],
   "source": [
    "final.to_csv('final.csv', sep = ',')"
   ]
  },
  {
   "cell_type": "code",
   "execution_count": 36,
   "metadata": {
    "collapsed": true
   },
   "outputs": [],
   "source": [
    "subset = final[final['unique']]"
   ]
  },
  {
   "cell_type": "code",
   "execution_count": 40,
   "metadata": {},
   "outputs": [
    {
     "data": {
      "text/plain": [
       "1061"
      ]
     },
     "execution_count": 40,
     "metadata": {},
     "output_type": "execute_result"
    }
   ],
   "source": [
    "print(len(subsubset)) # 1061"
   ]
  },
  {
   "cell_type": "code",
   "execution_count": 51,
   "metadata": {},
   "outputs": [
    {
     "name": "stdout",
     "output_type": "stream",
     "text": [
      "33\n",
      "116\n"
     ]
    }
   ],
   "source": [
    "# 1061/1734 unique inventors correctly identified\n",
    "\n",
    "china = final[final['inventor_country_code'] == \"CN\"]\n",
    "empty_china = china[china['linkedinProfile'] == \"\"]\n",
    "print(len(empty_china))\n",
    "\n",
    "taiwan = final[final['inventor_country_code'] == \"TW\"]\n",
    "empty_taiwan = taiwan[taiwan['linkedinProfile'] == \"\"]\n",
    "print(len(empty_taiwan))\n",
    "\n",
    "# 33/45 chinese inventors missing / could not confidently identify\n",
    "# 116/135 taiwanese inventors missing / could not confidently identify\n",
    "# 45 + 135 = 180 inventors from china/taiwan"
   ]
  },
  {
   "cell_type": "code",
   "execution_count": 54,
   "metadata": {
    "collapsed": true
   },
   "outputs": [],
   "source": [
    "us = final[final['inventor_country_code'] == \"US\"]\n",
    "empty_us = us[us['linkedinProfile'] == \"\"]\n",
    "print(len(empty_us))"
   ]
  },
  {
   "cell_type": "code",
   "execution_count": null,
   "metadata": {
    "collapsed": true
   },
   "outputs": [],
   "source": []
  }
 ],
 "metadata": {
  "kernelspec": {
   "display_name": "Python 3",
   "language": "python",
   "name": "python3"
  },
  "language_info": {
   "codemirror_mode": {
    "name": "ipython",
    "version": 3
   },
   "file_extension": ".py",
   "mimetype": "text/x-python",
   "name": "python",
   "nbconvert_exporter": "python",
   "pygments_lexer": "ipython3",
   "version": "3.6.1"
  }
 },
 "nbformat": 4,
 "nbformat_minor": 2
}
